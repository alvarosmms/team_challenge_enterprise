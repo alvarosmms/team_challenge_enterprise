{
 "cells": [
  {
   "cell_type": "code",
   "execution_count": null,
   "id": "5622c081-6d44-40c7-97ff-67fa3b9baeb6",
   "metadata": {},
   "outputs": [],
   "source": [
    "import pandas as pd\n",
    "import sqlite3"
   ]
  },
  {
   "cell_type": "code",
   "execution_count": null,
   "id": "f8930482-2a10-4620-8f0b-1ad31f2a6d81",
   "metadata": {},
   "outputs": [],
   "source": [
    "#Conecto a la base de datos\n",
    "connection = sqlite3.connect(\"./sql-murder-mystery.db\")"
   ]
  },
  {
   "cell_type": "code",
   "execution_count": null,
   "id": "0d7e17db-92d9-4dcd-9105-c81df24f2585",
   "metadata": {},
   "outputs": [],
   "source": [
    "#Obtengo el cursor para hacer las queries\n",
    "game_cursor = connection.cursor()"
   ]
  },
  {
   "cell_type": "code",
   "execution_count": null,
   "id": "5dee11d1-a6b1-436f-9a66-e6b89a2529bb",
   "metadata": {},
   "outputs": [],
   "source": [
    "#Creo la funcion para leer datos y pasar a un dataframe de pandas\n",
    "\n",
    "def sql_query(query):\n",
    "    game_cursor.execute(query)\n",
    "    ans = game_cursor.fetchall()\n",
    "    names = [description[0] for description in game_cursor.description]\n",
    "    #Modifico la funcion para poder ver las columnas enteras \n",
    "    for row in ans:\n",
    "        print([str(col) for col in row])  # Convierte todas las columnas a string para evitar truncamientos\n",
    "    \n",
    "    return pd.DataFrame(ans, columns=names)\n"
   ]
  },
  {
   "cell_type": "code",
   "execution_count": null,
   "id": "c59dbd6c-3ff9-49b6-9879-0a367cf4a783",
   "metadata": {},
   "outputs": [],
   "source": [
    "#query para ver los nombres de las tablas\n",
    "query = ''' \n",
    "SELECT name \n",
    "FROM sqlite_master\n",
    "where type = 'table'\n",
    "'''\n",
    "sql_query(query)\n"
   ]
  },
  {
   "cell_type": "code",
   "execution_count": null,
   "id": "a64ac27c-db87-4d7a-8a7c-825a1b613de1",
   "metadata": {
    "scrolled": true
   },
   "outputs": [],
   "source": [
    "#Estructura de 'crime_scene_report' table\n",
    "query = '''\n",
    "SELECT * \n",
    "FROM crime_scene_report;\n",
    "'''\n",
    "sql_query(query)"
   ]
  },
  {
   "cell_type": "code",
   "execution_count": null,
   "id": "0f9634c7-6cc3-4dfa-be6e-1c78aa2ab708",
   "metadata": {},
   "outputs": [],
   "source": [
    "# Actualizo la columna 'date' al formato europeo\n",
    "game_cursor.execute(\"\"\"\n",
    "    UPDATE crime_scene_report\n",
    "    SET date = SUBSTR(date, 7, 2) || '-' || SUBSTR(date, 5, 2) || '-' || SUBSTR(date, 1, 4)\n",
    "\"\"\")"
   ]
  },
  {
   "cell_type": "markdown",
   "id": "047d3cab-17e0-4f0c-836f-76ec6158ab92",
   "metadata": {},
   "source": [
    "## Pistas\n",
    "Sabemos que el crimen fue un asesinato ➡️ Filtrar por type: murder  \n",
    "Ocurrio el 15 de enero de 2018 ➡️ Filtrar date   \n",
    "Sucedio en SQL City ➡️ Filtrar en City: SQL City  "
   ]
  },
  {
   "cell_type": "code",
   "execution_count": null,
   "id": "6368fcf7-37d6-4b30-93ad-d70e00d7f338",
   "metadata": {},
   "outputs": [],
   "source": [
    "#Filtro por type: murder, date: 15-01-2018, city =SQL City\n",
    "query='''\n",
    "SELECT *\n",
    "FROM crime_scene_report\n",
    "WHERE type = \"murder\"\n",
    "\tAND date = \"15-01-2018\"\n",
    "\tAND city = \"SQL City\";\n",
    "'''\n",
    "sql_query(query)"
   ]
  },
  {
   "cell_type": "markdown",
   "id": "94e6f0b5-b666-4c3e-afdf-a6c4ef95d764",
   "metadata": {},
   "source": [
    "Luego tenemos que ver quienes son los testigos involucrados: dice que el primer testigo vivio por ultima vez en \"Northwestern Dr\", y el segundo en \"Franklin Ave\"."
   ]
  },
  {
   "cell_type": "code",
   "execution_count": null,
   "id": "020902e1-e988-46f7-8383-6b093dffeb48",
   "metadata": {
    "scrolled": true
   },
   "outputs": [],
   "source": [
    "query='''\n",
    "SELECT *\n",
    "FROM person;\n",
    "'''\n",
    "sql_query(query)"
   ]
  },
  {
   "cell_type": "code",
   "execution_count": null,
   "id": "80fedc0f-73e1-4a73-abca-9b4fd2a00b31",
   "metadata": {
    "scrolled": true
   },
   "outputs": [],
   "source": [
    "#identifico el primer testigo, que vive en la ultima casa de \"Northwestern Dr\":\n",
    "\n",
    "query='''\n",
    "SELECT *\n",
    "FROM person\n",
    "WHERE address_street_name = \"Northwestern Dr\"\n",
    "ORDER BY address_number DESC;\n",
    "'''\n",
    "sql_query(query)"
   ]
  },
  {
   "cell_type": "code",
   "execution_count": null,
   "id": "8a618a23-25e2-4413-b5ef-0f50b0b650c9",
   "metadata": {},
   "outputs": [],
   "source": [
    "#de igual manera identifico el segundo testigo, de nombre Annabel y que vive en \"Franklin Ave\"\n",
    "query='''\n",
    "SELECT *\n",
    "FROM person\n",
    "WHERE name LIKE '%Annabel%'\n",
    "AND address_street_name = \"Franklin Ave\";\n",
    "'''\n",
    "sql_query(query)"
   ]
  },
  {
   "cell_type": "markdown",
   "id": "6fc0a1c7-a639-4189-b23a-efb99364574d",
   "metadata": {},
   "source": [
    "Con los testigos identificados, revisamos sus entrevistas..."
   ]
  },
  {
   "cell_type": "code",
   "execution_count": null,
   "id": "2499dcf7-aba5-4194-b150-70355d666949",
   "metadata": {},
   "outputs": [],
   "source": [
    "query='''\n",
    "SELECT *\n",
    "FROM interview\n",
    "WHERE person_id IN (\"14887\", \"16371\");\n",
    "'''\n",
    "sql_query(query)"
   ]
  },
  {
   "cell_type": "markdown",
   "id": "5e8a4e04-f4fd-4a27-8ee7-07efdbe69ee6",
   "metadata": {},
   "source": [
    "Entonces las pistas son:   \n",
    "- Es un hombre\n",
    "- Va al gimnasio *Get Fit Now Gym*\n",
    "- Tiene membresia Gold que empieza en \"48Z\"\n",
    "- Fue a entrenar el dia 9 de enero\n",
    "- Conduce un coche con matrícula que contiene los caracteres \"H42W\"\n"
   ]
  },
  {
   "cell_type": "code",
   "execution_count": null,
   "id": "a3dc9171-6e54-4177-8030-66b4778e8d2d",
   "metadata": {},
   "outputs": [],
   "source": [
    "#De acuerdo a las pistas usamos la tabla de get_fit_now_check_in\n",
    "query='''\n",
    "SELECT *\n",
    "FROM get_fit_now_check_in\n",
    "WHERE membership_id LIKE '48Z%'\n",
    "\tAND check_in_date = \"20180109\";\n",
    "'''\n",
    "sql_query(query)"
   ]
  },
  {
   "cell_type": "code",
   "execution_count": null,
   "id": "1c387702-6d5b-4d6f-82e2-5f91eaeb4ad1",
   "metadata": {},
   "outputs": [],
   "source": [
    "#De la misma forma usamos el dato de la matricula en la tabla 'drivers_license'\n",
    "query='''\n",
    "SELECT *\n",
    "FROM drivers_license\n",
    "WHERE gender = \"male\"\n",
    "\tAND plate_number LIKE '%H42W%';\n",
    "'''\n",
    "sql_query(query)\n",
    "\n"
   ]
  },
  {
   "cell_type": "code",
   "execution_count": null,
   "id": "bf0e5402-97e4-4089-a83c-0a39c4527ad6",
   "metadata": {},
   "outputs": [],
   "source": [
    "#Buscamos en la tabla person por el numero de license_id\n",
    "\n",
    "\n",
    "query='''\n",
    "SELECT *\n",
    "FROM person\n",
    "WHERE license_id IN (\"423327\", \"664760\");\n",
    "'''\n",
    "sql_query(query)"
   ]
  },
  {
   "cell_type": "code",
   "execution_count": null,
   "id": "bb74d86f-b1fa-4660-a9ae-74d6b76872de",
   "metadata": {},
   "outputs": [],
   "source": [
    "#Buscamos en la tabla get_fit_now_member de acuerdo a person_id\n",
    "query='''\n",
    "SELECT *\n",
    "FROM get_fit_now_member\n",
    "WHERE person_id IN (\"51739\", \"67318\");\n",
    "'''\n",
    "sql_query(query)\n"
   ]
  },
  {
   "cell_type": "markdown",
   "id": "d8c80849-7a2f-4da8-891d-6076b0af0f12",
   "metadata": {},
   "source": [
    "Y nuestro asesino ha sido encontrado! "
   ]
  },
  {
   "cell_type": "code",
   "execution_count": null,
   "id": "b02dc0ac-3b20-4aa6-90f1-be6eada41e28",
   "metadata": {},
   "outputs": [],
   "source": [
    "connection.commit()"
   ]
  }
 ],
 "metadata": {
  "kernelspec": {
   "display_name": "Python 3 (ipykernel)",
   "language": "python",
   "name": "python3"
  },
  "language_info": {
   "codemirror_mode": {
    "name": "ipython",
    "version": 3
   },
   "file_extension": ".py",
   "mimetype": "text/x-python",
   "name": "python",
   "nbconvert_exporter": "python",
   "pygments_lexer": "ipython3",
   "version": "3.12.7"
  }
 },
 "nbformat": 4,
 "nbformat_minor": 5
}
